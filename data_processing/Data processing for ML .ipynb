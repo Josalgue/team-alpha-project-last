{
 "cells": [
  {
   "cell_type": "code",
   "execution_count": 12,
   "metadata": {},
   "outputs": [],
   "source": [
    "#Import dependencies for ETL\n",
    "import pandas as pd\n",
    "import numpy as np\n",
    "from sqlalchemy import create_engine\n",
    "import plotly.express as px\n",
    "import matplotlib.pyplot as pyplot\n",
    "import seaborn as sns\n",
    "import math\n"
   ]
  },
  {
   "cell_type": "code",
   "execution_count": 2,
   "metadata": {},
   "outputs": [],
   "source": [
    "import numpy as np\n",
    "import pandas as pd\n",
    "from sklearn.model_selection import train_test_split\n",
    "from   sklearn.compose            import *\n",
    "from   sklearn.experimental       import enable_iterative_imputer\n",
    "from   sklearn.impute             import *\n",
    "from   sklearn.metrics            import balanced_accuracy_score # Evaluation metric 2.0 \n",
    "from   sklearn.pipeline           import Pipeline\n",
    "from   sklearn.preprocessing      import *\n",
    "from   sklearn.linear_model    import *\n",
    "from   sklearn.metrics         import mean_absolute_error\n",
    "from sklearn.base import BaseEstimator\n",
    "from   sklearn.tree import *\n",
    "from   sklearn.ensemble import *\n",
    "from sklearn.model_selection  import RandomizedSearchCV\n",
    "from sklearn.model_selection  import GridSearchCV\n",
    "from sklearn import set_config\n",
    "from sklearn.model_selection import cross_val_score"
   ]
  },
  {
   "cell_type": "markdown",
   "metadata": {},
   "source": [
    "## Load CSV into pandas df"
   ]
  },
  {
   "cell_type": "code",
   "execution_count": 3,
   "metadata": {
    "scrolled": true
   },
   "outputs": [
    {
     "data": {
      "text/html": [
       "<div>\n",
       "<style scoped>\n",
       "    .dataframe tbody tr th:only-of-type {\n",
       "        vertical-align: middle;\n",
       "    }\n",
       "\n",
       "    .dataframe tbody tr th {\n",
       "        vertical-align: top;\n",
       "    }\n",
       "\n",
       "    .dataframe thead th {\n",
       "        text-align: right;\n",
       "    }\n",
       "</style>\n",
       "<table border=\"1\" class=\"dataframe\">\n",
       "  <thead>\n",
       "    <tr style=\"text-align: right;\">\n",
       "      <th></th>\n",
       "      <th>song_name</th>\n",
       "      <th>artist</th>\n",
       "      <th>album</th>\n",
       "      <th>album_release_date</th>\n",
       "      <th>track_popularity</th>\n",
       "      <th>explicit</th>\n",
       "      <th>danceability</th>\n",
       "      <th>energy</th>\n",
       "      <th>key</th>\n",
       "      <th>loudness</th>\n",
       "      <th>...</th>\n",
       "      <th>acousticness</th>\n",
       "      <th>instrumentalness</th>\n",
       "      <th>liveness</th>\n",
       "      <th>valence</th>\n",
       "      <th>tempo</th>\n",
       "      <th>duration_ms</th>\n",
       "      <th>time_signature</th>\n",
       "      <th>song_id</th>\n",
       "      <th>preview_url</th>\n",
       "      <th>external_url</th>\n",
       "    </tr>\n",
       "  </thead>\n",
       "  <tbody>\n",
       "    <tr>\n",
       "      <th>0</th>\n",
       "      <td>Dámelo To’ (feat. Myke Towers)</td>\n",
       "      <td>Selena Gomez</td>\n",
       "      <td>Revelación - EP</td>\n",
       "      <td>2021-03-12</td>\n",
       "      <td>40</td>\n",
       "      <td>0.0</td>\n",
       "      <td>0.787</td>\n",
       "      <td>0.641</td>\n",
       "      <td>8</td>\n",
       "      <td>-7.376</td>\n",
       "      <td>...</td>\n",
       "      <td>0.1010</td>\n",
       "      <td>0.00534</td>\n",
       "      <td>0.0700</td>\n",
       "      <td>0.437</td>\n",
       "      <td>182.003</td>\n",
       "      <td>184134</td>\n",
       "      <td>4</td>\n",
       "      <td>36CiGk9oRdwTnBDMgKEfjl</td>\n",
       "      <td>NaN</td>\n",
       "      <td>https://open.spotify.com/track/36CiGk9oRdwTnBD...</td>\n",
       "    </tr>\n",
       "    <tr>\n",
       "      <th>1</th>\n",
       "      <td>LA NOCHE DE ANOCHE</td>\n",
       "      <td>Bad Bunny</td>\n",
       "      <td>EL ÚLTIMO TOUR DEL MUNDO</td>\n",
       "      <td>2020-11-27</td>\n",
       "      <td>93</td>\n",
       "      <td>0.0</td>\n",
       "      <td>0.856</td>\n",
       "      <td>0.618</td>\n",
       "      <td>7</td>\n",
       "      <td>-4.892</td>\n",
       "      <td>...</td>\n",
       "      <td>0.0303</td>\n",
       "      <td>0.00000</td>\n",
       "      <td>0.0866</td>\n",
       "      <td>0.391</td>\n",
       "      <td>81.993</td>\n",
       "      <td>203201</td>\n",
       "      <td>4</td>\n",
       "      <td>2XIc1pqjXV3Cr2BQUGNBck</td>\n",
       "      <td>https://p.scdn.co/mp3-preview/a98b639351290bdb...</td>\n",
       "      <td>https://open.spotify.com/track/2XIc1pqjXV3Cr2B...</td>\n",
       "    </tr>\n",
       "    <tr>\n",
       "      <th>2</th>\n",
       "      <td>LOCATION</td>\n",
       "      <td>KAROL G</td>\n",
       "      <td>LOCATION</td>\n",
       "      <td>2021-02-12</td>\n",
       "      <td>85</td>\n",
       "      <td>1.0</td>\n",
       "      <td>0.772</td>\n",
       "      <td>0.758</td>\n",
       "      <td>9</td>\n",
       "      <td>-3.891</td>\n",
       "      <td>...</td>\n",
       "      <td>0.0433</td>\n",
       "      <td>0.00000</td>\n",
       "      <td>0.2950</td>\n",
       "      <td>0.654</td>\n",
       "      <td>115.977</td>\n",
       "      <td>265240</td>\n",
       "      <td>4</td>\n",
       "      <td>5Km4r87BoX2qqtoprYS1gh</td>\n",
       "      <td>NaN</td>\n",
       "      <td>https://open.spotify.com/track/5Km4r87BoX2qqto...</td>\n",
       "    </tr>\n",
       "  </tbody>\n",
       "</table>\n",
       "<p>3 rows × 22 columns</p>\n",
       "</div>"
      ],
      "text/plain": [
       "                        song_name        artist                     album  \\\n",
       "0  Dámelo To’ (feat. Myke Towers)  Selena Gomez           Revelación - EP   \n",
       "1              LA NOCHE DE ANOCHE     Bad Bunny  EL ÚLTIMO TOUR DEL MUNDO   \n",
       "2                        LOCATION       KAROL G                  LOCATION   \n",
       "\n",
       "  album_release_date  track_popularity  explicit  danceability  energy  key  \\\n",
       "0         2021-03-12                40       0.0         0.787   0.641    8   \n",
       "1         2020-11-27                93       0.0         0.856   0.618    7   \n",
       "2         2021-02-12                85       1.0         0.772   0.758    9   \n",
       "\n",
       "   loudness  ...  acousticness  instrumentalness  liveness  valence    tempo  \\\n",
       "0    -7.376  ...        0.1010           0.00534    0.0700    0.437  182.003   \n",
       "1    -4.892  ...        0.0303           0.00000    0.0866    0.391   81.993   \n",
       "2    -3.891  ...        0.0433           0.00000    0.2950    0.654  115.977   \n",
       "\n",
       "   duration_ms  time_signature                 song_id  \\\n",
       "0       184134               4  36CiGk9oRdwTnBDMgKEfjl   \n",
       "1       203201               4  2XIc1pqjXV3Cr2BQUGNBck   \n",
       "2       265240               4  5Km4r87BoX2qqtoprYS1gh   \n",
       "\n",
       "                                         preview_url  \\\n",
       "0                                                NaN   \n",
       "1  https://p.scdn.co/mp3-preview/a98b639351290bdb...   \n",
       "2                                                NaN   \n",
       "\n",
       "                                        external_url  \n",
       "0  https://open.spotify.com/track/36CiGk9oRdwTnBD...  \n",
       "1  https://open.spotify.com/track/2XIc1pqjXV3Cr2B...  \n",
       "2  https://open.spotify.com/track/5Km4r87BoX2qqto...  \n",
       "\n",
       "[3 rows x 22 columns]"
      ]
     },
     "execution_count": 3,
     "metadata": {},
     "output_type": "execute_result"
    }
   ],
   "source": [
    "# Use Pandas to read data and transform into pandas dataframe\n",
    "df = pd.read_csv(\"data/data.csv\", encoding = \"utf16\")\n",
    "df.head(3)"
   ]
  },
  {
   "cell_type": "code",
   "execution_count": 5,
   "metadata": {},
   "outputs": [
    {
     "data": {
      "text/html": [
       "<div>\n",
       "<style scoped>\n",
       "    .dataframe tbody tr th:only-of-type {\n",
       "        vertical-align: middle;\n",
       "    }\n",
       "\n",
       "    .dataframe tbody tr th {\n",
       "        vertical-align: top;\n",
       "    }\n",
       "\n",
       "    .dataframe thead th {\n",
       "        text-align: right;\n",
       "    }\n",
       "</style>\n",
       "<table border=\"1\" class=\"dataframe\">\n",
       "  <thead>\n",
       "    <tr style=\"text-align: right;\">\n",
       "      <th></th>\n",
       "      <th>song_name</th>\n",
       "      <th>artist</th>\n",
       "      <th>album</th>\n",
       "      <th>album_release_date</th>\n",
       "      <th>track_popularity</th>\n",
       "      <th>explicit</th>\n",
       "      <th>danceability</th>\n",
       "      <th>energy</th>\n",
       "      <th>key</th>\n",
       "      <th>loudness</th>\n",
       "      <th>...</th>\n",
       "      <th>acousticness</th>\n",
       "      <th>instrumentalness</th>\n",
       "      <th>liveness</th>\n",
       "      <th>valence</th>\n",
       "      <th>tempo</th>\n",
       "      <th>duration_ms</th>\n",
       "      <th>time_signature</th>\n",
       "      <th>song_id</th>\n",
       "      <th>preview_url</th>\n",
       "      <th>external_url</th>\n",
       "    </tr>\n",
       "  </thead>\n",
       "  <tbody>\n",
       "    <tr>\n",
       "      <th>1</th>\n",
       "      <td>LA NOCHE DE ANOCHE</td>\n",
       "      <td>Bad Bunny</td>\n",
       "      <td>EL ÚLTIMO TOUR DEL MUNDO</td>\n",
       "      <td>2020-11-27</td>\n",
       "      <td>93</td>\n",
       "      <td>0.0</td>\n",
       "      <td>0.856</td>\n",
       "      <td>0.618</td>\n",
       "      <td>7</td>\n",
       "      <td>-4.892</td>\n",
       "      <td>...</td>\n",
       "      <td>0.030300</td>\n",
       "      <td>0.000000</td>\n",
       "      <td>0.0866</td>\n",
       "      <td>0.391</td>\n",
       "      <td>81.993</td>\n",
       "      <td>203201</td>\n",
       "      <td>4</td>\n",
       "      <td>2XIc1pqjXV3Cr2BQUGNBck</td>\n",
       "      <td>https://p.scdn.co/mp3-preview/a98b639351290bdb...</td>\n",
       "      <td>https://open.spotify.com/track/2XIc1pqjXV3Cr2B...</td>\n",
       "    </tr>\n",
       "    <tr>\n",
       "      <th>2</th>\n",
       "      <td>LOCATION</td>\n",
       "      <td>KAROL G</td>\n",
       "      <td>LOCATION</td>\n",
       "      <td>2021-02-12</td>\n",
       "      <td>85</td>\n",
       "      <td>1.0</td>\n",
       "      <td>0.772</td>\n",
       "      <td>0.758</td>\n",
       "      <td>9</td>\n",
       "      <td>-3.891</td>\n",
       "      <td>...</td>\n",
       "      <td>0.043300</td>\n",
       "      <td>0.000000</td>\n",
       "      <td>0.2950</td>\n",
       "      <td>0.654</td>\n",
       "      <td>115.977</td>\n",
       "      <td>265240</td>\n",
       "      <td>4</td>\n",
       "      <td>5Km4r87BoX2qqtoprYS1gh</td>\n",
       "      <td>NaN</td>\n",
       "      <td>https://open.spotify.com/track/5Km4r87BoX2qqto...</td>\n",
       "    </tr>\n",
       "    <tr>\n",
       "      <th>3</th>\n",
       "      <td>telepatía</td>\n",
       "      <td>Kali Uchis</td>\n",
       "      <td>Sin Miedo (del Amor y Otros Demonios) ∞</td>\n",
       "      <td>2020-12-04</td>\n",
       "      <td>92</td>\n",
       "      <td>0.0</td>\n",
       "      <td>0.653</td>\n",
       "      <td>0.524</td>\n",
       "      <td>11</td>\n",
       "      <td>-9.016</td>\n",
       "      <td>...</td>\n",
       "      <td>0.112000</td>\n",
       "      <td>0.000000</td>\n",
       "      <td>0.2030</td>\n",
       "      <td>0.553</td>\n",
       "      <td>83.970</td>\n",
       "      <td>160191</td>\n",
       "      <td>4</td>\n",
       "      <td>6tDDoYIxWvMLTdKpjFkc1B</td>\n",
       "      <td>NaN</td>\n",
       "      <td>https://open.spotify.com/track/6tDDoYIxWvMLTdK...</td>\n",
       "    </tr>\n",
       "    <tr>\n",
       "      <th>4</th>\n",
       "      <td>Bandido</td>\n",
       "      <td>Myke Towers</td>\n",
       "      <td>Bandido</td>\n",
       "      <td>2020-12-10</td>\n",
       "      <td>94</td>\n",
       "      <td>0.0</td>\n",
       "      <td>0.713</td>\n",
       "      <td>0.617</td>\n",
       "      <td>8</td>\n",
       "      <td>-4.637</td>\n",
       "      <td>...</td>\n",
       "      <td>0.122000</td>\n",
       "      <td>0.000000</td>\n",
       "      <td>0.0962</td>\n",
       "      <td>0.682</td>\n",
       "      <td>168.021</td>\n",
       "      <td>232853</td>\n",
       "      <td>4</td>\n",
       "      <td>1xK1Gg9SxG8fy2Ya373oqb</td>\n",
       "      <td>https://p.scdn.co/mp3-preview/99b834a17f7f6089...</td>\n",
       "      <td>https://open.spotify.com/track/1xK1Gg9SxG8fy2Y...</td>\n",
       "    </tr>\n",
       "    <tr>\n",
       "      <th>5</th>\n",
       "      <td>Hecha Pa' Mi</td>\n",
       "      <td>Boza</td>\n",
       "      <td>Más Negro Que Rojo</td>\n",
       "      <td>2020-07-31</td>\n",
       "      <td>92</td>\n",
       "      <td>0.0</td>\n",
       "      <td>0.725</td>\n",
       "      <td>0.756</td>\n",
       "      <td>4</td>\n",
       "      <td>-5.013</td>\n",
       "      <td>...</td>\n",
       "      <td>0.362000</td>\n",
       "      <td>0.000685</td>\n",
       "      <td>0.1030</td>\n",
       "      <td>0.828</td>\n",
       "      <td>100.070</td>\n",
       "      <td>186133</td>\n",
       "      <td>4</td>\n",
       "      <td>3VvA1wSxukMLsvXoXtlwWx</td>\n",
       "      <td>https://p.scdn.co/mp3-preview/64269c7ce40d69c2...</td>\n",
       "      <td>https://open.spotify.com/track/3VvA1wSxukMLsvX...</td>\n",
       "    </tr>\n",
       "    <tr>\n",
       "      <th>...</th>\n",
       "      <td>...</td>\n",
       "      <td>...</td>\n",
       "      <td>...</td>\n",
       "      <td>...</td>\n",
       "      <td>...</td>\n",
       "      <td>...</td>\n",
       "      <td>...</td>\n",
       "      <td>...</td>\n",
       "      <td>...</td>\n",
       "      <td>...</td>\n",
       "      <td>...</td>\n",
       "      <td>...</td>\n",
       "      <td>...</td>\n",
       "      <td>...</td>\n",
       "      <td>...</td>\n",
       "      <td>...</td>\n",
       "      <td>...</td>\n",
       "      <td>...</td>\n",
       "      <td>...</td>\n",
       "      <td>...</td>\n",
       "      <td>...</td>\n",
       "    </tr>\n",
       "    <tr>\n",
       "      <th>166259</th>\n",
       "      <td>Kickstart My Heart</td>\n",
       "      <td>Mötley Crüe</td>\n",
       "      <td>Dr. Feelgood</td>\n",
       "      <td>1989</td>\n",
       "      <td>76</td>\n",
       "      <td>0.0</td>\n",
       "      <td>0.359</td>\n",
       "      <td>0.981</td>\n",
       "      <td>7</td>\n",
       "      <td>-3.622</td>\n",
       "      <td>...</td>\n",
       "      <td>0.001250</td>\n",
       "      <td>0.002360</td>\n",
       "      <td>0.2840</td>\n",
       "      <td>0.271</td>\n",
       "      <td>178.980</td>\n",
       "      <td>282653</td>\n",
       "      <td>4</td>\n",
       "      <td>7GonnnalI2s19OCQO1J7Tf</td>\n",
       "      <td>https://p.scdn.co/mp3-preview/ef2d6aa6a12ee121...</td>\n",
       "      <td>https://open.spotify.com/track/7GonnnalI2s19OC...</td>\n",
       "    </tr>\n",
       "    <tr>\n",
       "      <th>166285</th>\n",
       "      <td>Old Pine</td>\n",
       "      <td>Ben Howard</td>\n",
       "      <td>Every Kingdom</td>\n",
       "      <td>2011-01-01</td>\n",
       "      <td>70</td>\n",
       "      <td>0.0</td>\n",
       "      <td>0.401</td>\n",
       "      <td>0.364</td>\n",
       "      <td>5</td>\n",
       "      <td>-10.836</td>\n",
       "      <td>...</td>\n",
       "      <td>0.450000</td>\n",
       "      <td>0.050300</td>\n",
       "      <td>0.1620</td>\n",
       "      <td>0.224</td>\n",
       "      <td>129.570</td>\n",
       "      <td>328507</td>\n",
       "      <td>4</td>\n",
       "      <td>3CAX47TnPqTujLIQTw8nwI</td>\n",
       "      <td>NaN</td>\n",
       "      <td>https://open.spotify.com/track/3CAX47TnPqTujLI...</td>\n",
       "    </tr>\n",
       "    <tr>\n",
       "      <th>166288</th>\n",
       "      <td>Nothing Compares 2 U</td>\n",
       "      <td>Sinéad O'Connor</td>\n",
       "      <td>I Do Not Want What I Haven't Got</td>\n",
       "      <td>1990-07-01</td>\n",
       "      <td>73</td>\n",
       "      <td>0.0</td>\n",
       "      <td>0.511</td>\n",
       "      <td>0.574</td>\n",
       "      <td>5</td>\n",
       "      <td>-7.016</td>\n",
       "      <td>...</td>\n",
       "      <td>0.042500</td>\n",
       "      <td>0.000023</td>\n",
       "      <td>0.1050</td>\n",
       "      <td>0.161</td>\n",
       "      <td>119.917</td>\n",
       "      <td>280040</td>\n",
       "      <td>4</td>\n",
       "      <td>3nvuPQTw2zuFAVuLsC9IYQ</td>\n",
       "      <td>https://p.scdn.co/mp3-preview/d50d7c8ec55e72b1...</td>\n",
       "      <td>https://open.spotify.com/track/3nvuPQTw2zuFAVu...</td>\n",
       "    </tr>\n",
       "    <tr>\n",
       "      <th>167458</th>\n",
       "      <td>Aerials</td>\n",
       "      <td>System Of A Down</td>\n",
       "      <td>Toxicity</td>\n",
       "      <td>2001-09-04</td>\n",
       "      <td>73</td>\n",
       "      <td>0.0</td>\n",
       "      <td>0.364</td>\n",
       "      <td>0.922</td>\n",
       "      <td>0</td>\n",
       "      <td>-4.217</td>\n",
       "      <td>...</td>\n",
       "      <td>0.000915</td>\n",
       "      <td>0.034600</td>\n",
       "      <td>0.0697</td>\n",
       "      <td>0.227</td>\n",
       "      <td>79.342</td>\n",
       "      <td>235053</td>\n",
       "      <td>4</td>\n",
       "      <td>4e9eGQYsOiBcftrWXwsVco</td>\n",
       "      <td>https://p.scdn.co/mp3-preview/17c08cf40c2f21a4...</td>\n",
       "      <td>https://open.spotify.com/track/4e9eGQYsOiBcftr...</td>\n",
       "    </tr>\n",
       "    <tr>\n",
       "      <th>167465</th>\n",
       "      <td>Freak On a Leash</td>\n",
       "      <td>Korn</td>\n",
       "      <td>Follow The Leader</td>\n",
       "      <td>1998-08-18</td>\n",
       "      <td>74</td>\n",
       "      <td>1.0</td>\n",
       "      <td>0.353</td>\n",
       "      <td>0.898</td>\n",
       "      <td>2</td>\n",
       "      <td>-5.877</td>\n",
       "      <td>...</td>\n",
       "      <td>0.000022</td>\n",
       "      <td>0.105000</td>\n",
       "      <td>0.3900</td>\n",
       "      <td>0.525</td>\n",
       "      <td>103.293</td>\n",
       "      <td>255733</td>\n",
       "      <td>4</td>\n",
       "      <td>6W21LNLz9Sw7sUSNWMSHRu</td>\n",
       "      <td>https://p.scdn.co/mp3-preview/14933695bf1a6f25...</td>\n",
       "      <td>https://open.spotify.com/track/6W21LNLz9Sw7sUS...</td>\n",
       "    </tr>\n",
       "  </tbody>\n",
       "</table>\n",
       "<p>3797 rows × 22 columns</p>\n",
       "</div>"
      ],
      "text/plain": [
       "                   song_name            artist  \\\n",
       "1         LA NOCHE DE ANOCHE         Bad Bunny   \n",
       "2                   LOCATION           KAROL G   \n",
       "3                  telepatía        Kali Uchis   \n",
       "4                    Bandido       Myke Towers   \n",
       "5               Hecha Pa' Mi              Boza   \n",
       "...                      ...               ...   \n",
       "166259    Kickstart My Heart       Mötley Crüe   \n",
       "166285              Old Pine        Ben Howard   \n",
       "166288  Nothing Compares 2 U   Sinéad O'Connor   \n",
       "167458               Aerials  System Of A Down   \n",
       "167465      Freak On a Leash              Korn   \n",
       "\n",
       "                                          album album_release_date  \\\n",
       "1                      EL ÚLTIMO TOUR DEL MUNDO         2020-11-27   \n",
       "2                                      LOCATION         2021-02-12   \n",
       "3       Sin Miedo (del Amor y Otros Demonios) ∞         2020-12-04   \n",
       "4                                       Bandido         2020-12-10   \n",
       "5                            Más Negro Que Rojo         2020-07-31   \n",
       "...                                         ...                ...   \n",
       "166259                             Dr. Feelgood               1989   \n",
       "166285                            Every Kingdom         2011-01-01   \n",
       "166288         I Do Not Want What I Haven't Got         1990-07-01   \n",
       "167458                                 Toxicity         2001-09-04   \n",
       "167465                        Follow The Leader         1998-08-18   \n",
       "\n",
       "        track_popularity  explicit  danceability  energy  key  loudness  ...  \\\n",
       "1                     93       0.0         0.856   0.618    7    -4.892  ...   \n",
       "2                     85       1.0         0.772   0.758    9    -3.891  ...   \n",
       "3                     92       0.0         0.653   0.524   11    -9.016  ...   \n",
       "4                     94       0.0         0.713   0.617    8    -4.637  ...   \n",
       "5                     92       0.0         0.725   0.756    4    -5.013  ...   \n",
       "...                  ...       ...           ...     ...  ...       ...  ...   \n",
       "166259                76       0.0         0.359   0.981    7    -3.622  ...   \n",
       "166285                70       0.0         0.401   0.364    5   -10.836  ...   \n",
       "166288                73       0.0         0.511   0.574    5    -7.016  ...   \n",
       "167458                73       0.0         0.364   0.922    0    -4.217  ...   \n",
       "167465                74       1.0         0.353   0.898    2    -5.877  ...   \n",
       "\n",
       "        acousticness  instrumentalness  liveness  valence    tempo  \\\n",
       "1           0.030300          0.000000    0.0866    0.391   81.993   \n",
       "2           0.043300          0.000000    0.2950    0.654  115.977   \n",
       "3           0.112000          0.000000    0.2030    0.553   83.970   \n",
       "4           0.122000          0.000000    0.0962    0.682  168.021   \n",
       "5           0.362000          0.000685    0.1030    0.828  100.070   \n",
       "...              ...               ...       ...      ...      ...   \n",
       "166259      0.001250          0.002360    0.2840    0.271  178.980   \n",
       "166285      0.450000          0.050300    0.1620    0.224  129.570   \n",
       "166288      0.042500          0.000023    0.1050    0.161  119.917   \n",
       "167458      0.000915          0.034600    0.0697    0.227   79.342   \n",
       "167465      0.000022          0.105000    0.3900    0.525  103.293   \n",
       "\n",
       "        duration_ms  time_signature                 song_id  \\\n",
       "1            203201               4  2XIc1pqjXV3Cr2BQUGNBck   \n",
       "2            265240               4  5Km4r87BoX2qqtoprYS1gh   \n",
       "3            160191               4  6tDDoYIxWvMLTdKpjFkc1B   \n",
       "4            232853               4  1xK1Gg9SxG8fy2Ya373oqb   \n",
       "5            186133               4  3VvA1wSxukMLsvXoXtlwWx   \n",
       "...             ...             ...                     ...   \n",
       "166259       282653               4  7GonnnalI2s19OCQO1J7Tf   \n",
       "166285       328507               4  3CAX47TnPqTujLIQTw8nwI   \n",
       "166288       280040               4  3nvuPQTw2zuFAVuLsC9IYQ   \n",
       "167458       235053               4  4e9eGQYsOiBcftrWXwsVco   \n",
       "167465       255733               4  6W21LNLz9Sw7sUSNWMSHRu   \n",
       "\n",
       "                                              preview_url  \\\n",
       "1       https://p.scdn.co/mp3-preview/a98b639351290bdb...   \n",
       "2                                                     NaN   \n",
       "3                                                     NaN   \n",
       "4       https://p.scdn.co/mp3-preview/99b834a17f7f6089...   \n",
       "5       https://p.scdn.co/mp3-preview/64269c7ce40d69c2...   \n",
       "...                                                   ...   \n",
       "166259  https://p.scdn.co/mp3-preview/ef2d6aa6a12ee121...   \n",
       "166285                                                NaN   \n",
       "166288  https://p.scdn.co/mp3-preview/d50d7c8ec55e72b1...   \n",
       "167458  https://p.scdn.co/mp3-preview/17c08cf40c2f21a4...   \n",
       "167465  https://p.scdn.co/mp3-preview/14933695bf1a6f25...   \n",
       "\n",
       "                                             external_url  \n",
       "1       https://open.spotify.com/track/2XIc1pqjXV3Cr2B...  \n",
       "2       https://open.spotify.com/track/5Km4r87BoX2qqto...  \n",
       "3       https://open.spotify.com/track/6tDDoYIxWvMLTdK...  \n",
       "4       https://open.spotify.com/track/1xK1Gg9SxG8fy2Y...  \n",
       "5       https://open.spotify.com/track/3VvA1wSxukMLsvX...  \n",
       "...                                                   ...  \n",
       "166259  https://open.spotify.com/track/7GonnnalI2s19OC...  \n",
       "166285  https://open.spotify.com/track/3CAX47TnPqTujLI...  \n",
       "166288  https://open.spotify.com/track/3nvuPQTw2zuFAVu...  \n",
       "167458  https://open.spotify.com/track/4e9eGQYsOiBcftr...  \n",
       "167465  https://open.spotify.com/track/6W21LNLz9Sw7sUS...  \n",
       "\n",
       "[3797 rows x 22 columns]"
      ]
     },
     "execution_count": 5,
     "metadata": {},
     "output_type": "execute_result"
    }
   ],
   "source": [
    "# Small sample for testing purposes\n",
    "# sm_df = df[df['track_popularity'].between(70, 100)]\n",
    "\n",
    "# sm_y = sm_df.loc[:, 'track_popularity']\n",
    "# sm_X = sm_df.drop('track_popularity', axis=1)\n",
    "\n",
    "# sm_X.to_csv('data/sm_X.csv', index=False)\n",
    "# sm_y.to_csv('data/sm_y.csv', index=False)\n",
    "\n",
    "# sm_df"
   ]
  },
  {
   "cell_type": "markdown",
   "metadata": {},
   "source": [
    "# Exploratory Data Analysis\n",
    "### Make plots to visually find correlationship between variables "
   ]
  },
  {
   "cell_type": "markdown",
   "metadata": {},
   "source": [
    "#### Popularity vs. Duration (milliseconds)\n",
    "##### There seems to be a clear correlation between Song Duration and Popularity: Shorter songs make for most popular ones. We will keep Duration for the ML model training."
   ]
  },
  {
   "cell_type": "code",
   "execution_count": 9,
   "metadata": {},
   "outputs": [
    {
     "data": {
      "image/png": "[encoded data removed]",
      "text/plain": [
       "<Figure size 432x288 with 1 Axes>"
      ]
     },
     "metadata": {
      "needs_background": "light"
     },
     "output_type": "display_data"
    }
   ],
   "source": [
    "pop_v_dur = df.plot.scatter(x='duration_ms',\n",
    "                      y='track_popularity',\n",
    "                      c='DarkBlue')"
   ]
  },
  {
   "cell_type": "markdown",
   "metadata": {},
   "source": [
    "#### Popularity vs. Spechiness\n",
    "##### Most Popular songs have between 0.1 and 0.5 Speechiness. This seems to make sense, as having too much lyrics might make it harder for the listener to remember most of them, while having less lyrics is easier to follow. We will keep Spechiness as a relevant attribute for the ML model training."
   ]
  },
  {
   "cell_type": "code",
   "execution_count": 4,
   "metadata": {},
   "outputs": [
    {
     "data": {
      "image/png": "[encoded data removed]",
      "text/plain": [
       "<Figure size 432x288 with 1 Axes>"
      ]
     },
     "metadata": {
      "needs_background": "light"
     },
     "output_type": "display_data"
    }
   ],
   "source": [
    "pop_v_sp = df.plot.scatter(x='speechiness',\n",
    "                    y='track_popularity',\n",
    "                      c='Red')"
   ]
  },
  {
   "cell_type": "markdown",
   "metadata": {},
   "source": [
    "#### Popularity vs. Instrumentalness\n",
    "##### Based on the outliers, it seems that very low Instrumentalness is correlated with high Popularity, but in the bigger picture, there is no clear correlation, so we won't be using this."
   ]
  },
  {
   "cell_type": "code",
   "execution_count": 5,
   "metadata": {},
   "outputs": [
    {
     "data": {
      "image/png": "[encoded data removed]",
      "text/plain": [
       "<Figure size 432x288 with 1 Axes>"
      ]
     },
     "metadata": {
      "needs_background": "light"
     },
     "output_type": "display_data"
    }
   ],
   "source": [
    "pop_v_inst = df.plot.scatter(x='instrumentalness',\n",
    "                    y='track_popularity',\n",
    "                      c='pink')"
   ]
  },
  {
   "cell_type": "markdown",
   "metadata": {},
   "source": [
    "#### Popularity vs. Valence\n",
    "##### Valence, that could be understood as 'happiness', does not seem to directly correlate to Popularity. This makes sense, as a sad song could also be a hit."
   ]
  },
  {
   "cell_type": "code",
   "execution_count": 6,
   "metadata": {},
   "outputs": [
    {
     "data": {
      "image/png": "[encoded data removed]",
      "text/plain": [
       "<Figure size 432x288 with 1 Axes>"
      ]
     },
     "metadata": {
      "needs_background": "light"
     },
     "output_type": "display_data"
    }
   ],
   "source": [
    "pop_v_vl = df.plot.scatter(x='valence',\n",
    "                    y='track_popularity',\n",
    "                      c='Orange')"
   ]
  },
  {
   "cell_type": "markdown",
   "metadata": {},
   "source": [
    "#### Popularity vs. Tempo\n",
    "##### Tempo (the 'speed of a song') does show that songs with tempos between 60bpm and 150bpm tend to be the mos popular. So that means that too slow or too fast songs don't make it to the hit zone."
   ]
  },
  {
   "cell_type": "code",
   "execution_count": 7,
   "metadata": {},
   "outputs": [
    {
     "data": {
      "image/png": "[encoded data removed]",
      "text/plain": [
       "<Figure size 432x288 with 1 Axes>"
      ]
     },
     "metadata": {
      "needs_background": "light"
     },
     "output_type": "display_data"
    }
   ],
   "source": [
    "pop_v_tmp = df.plot.scatter(x='tempo',\n",
    "                    y='track_popularity',\n",
    "                      c='lightGreen')"
   ]
  },
  {
   "cell_type": "markdown",
   "metadata": {},
   "source": [
    "#### Popularity vs. Danceability\n",
    "##### Danceability seems to be direclty correlated to Popularity: It seems like, the more danceable a song is, the most popular it can become."
   ]
  },
  {
   "cell_type": "code",
   "execution_count": 8,
   "metadata": {},
   "outputs": [
    {
     "data": {
      "image/png": "[encoded data removed]",
      "text/plain": [
       "<Figure size 432x288 with 1 Axes>"
      ]
     },
     "metadata": {
      "needs_background": "light"
     },
     "output_type": "display_data"
    }
   ],
   "source": [
    "pop_v_dnc = df.plot.scatter(x='danceability',\n",
    "                      y='track_popularity',\n",
    "                      c='darkRed')"
   ]
  },
  {
   "cell_type": "markdown",
   "metadata": {},
   "source": [
    "#### Popularity vs. Energy\n",
    "##### Low Energy songs definitely are not too popular. It seems that Energy does correlate to Popularity and, even if the highest Energy rate songs are not the most popular one, the correlation is strong in the 0.5 to 0.8 Energy segment."
   ]
  },
  {
   "cell_type": "code",
   "execution_count": 9,
   "metadata": {},
   "outputs": [
    {
     "data": {
      "image/png": "[encoded data removed]",
      "text/plain": [
       "<Figure size 432x288 with 1 Axes>"
      ]
     },
     "metadata": {
      "needs_background": "light"
     },
     "output_type": "display_data"
    }
   ],
   "source": [
    "pop_v_eng = df.plot.scatter(x='energy',\n",
    "                    y='track_popularity',\n",
    "                      c='blue')"
   ]
  },
  {
   "cell_type": "markdown",
   "metadata": {},
   "source": [
    "#### Popularity vs. Loudness\n",
    "##### There is definitely correlation between Loudness and Popularity: It seems that most Popular songs range from -15 to -5 decibels."
   ]
  },
  {
   "cell_type": "code",
   "execution_count": 10,
   "metadata": {},
   "outputs": [
    {
     "data": {
      "image/png": "[encoded data removed]",
      "text/plain": [
       "<Figure size 432x288 with 1 Axes>"
      ]
     },
     "metadata": {
      "needs_background": "light"
     },
     "output_type": "display_data"
    }
   ],
   "source": [
    "pop_v_ldn = df.plot.scatter(x='loudness',\n",
    "                    y='track_popularity',\n",
    "                      c='yellow')"
   ]
  },
  {
   "cell_type": "markdown",
   "metadata": {},
   "source": [
    "#### Popularity vs. Time Signature\n",
    "###### It is widely spoken that commercial success music tends to be written with some rythmic bars conventions, such as being mainly written in  ###### 4/4 bar measurement (4), or 3/4 (3). This idea is reinforced by the plot, as it shows most popular songs are in the 4 Time Signature category."
   ]
  },
  {
   "cell_type": "code",
   "execution_count": 11,
   "metadata": {},
   "outputs": [
    {
     "data": {
      "image/png": "[encoded data removed]",
      "text/plain": [
       "<Figure size 432x288 with 2 Axes>"
      ]
     },
     "metadata": {
      "needs_background": "light"
     },
     "output_type": "display_data"
    }
   ],
   "source": [
    "pop_v_tims = df.plot.scatter(x='time_signature',\n",
    "                    y='track_popularity',\n",
    "                      c='tempo',\n",
    "                      colormap='viridis')"
   ]
  },
  {
   "cell_type": "markdown",
   "metadata": {},
   "source": [
    "### Digging deeper: Popularity vs. Rythm and Harmony\n",
    "#### Of the selected attributes, there are three that are part of musical composition:\n",
    "#### Key - The harmonic key in which the song is composed.\n",
    "#### Mode - Major or minor, directly influencing the harmonic key.\n",
    "#### Time Signature - This lead to the rythmical structure of a song and in this study, represented by a range from 0 to 5 bars per barline.\n",
    "#### Let's create some specific df's for them."
   ]
  },
  {
   "cell_type": "code",
   "execution_count": 12,
   "metadata": {},
   "outputs": [],
   "source": [
    "# Create a df with just the more popular songs, with a Popularity rate of 70 up to 100 (This reduces the tracklist from 170K songs to 3K)\n",
    "keyDf = df[df['track_popularity'].between(70, 100)]\n"
   ]
  },
  {
   "cell_type": "code",
   "execution_count": 16,
   "metadata": {
    "scrolled": true
   },
   "outputs": [
    {
     "data": {
      "text/html": [
       "<div>\n",
       "<style scoped>\n",
       "    .dataframe tbody tr th:only-of-type {\n",
       "        vertical-align: middle;\n",
       "    }\n",
       "\n",
       "    .dataframe tbody tr th {\n",
       "        vertical-align: top;\n",
       "    }\n",
       "\n",
       "    .dataframe thead th {\n",
       "        text-align: right;\n",
       "    }\n",
       "</style>\n",
       "<table border=\"1\" class=\"dataframe\">\n",
       "  <thead>\n",
       "    <tr style=\"text-align: right;\">\n",
       "      <th></th>\n",
       "      <th>song_name</th>\n",
       "      <th>track_popularity</th>\n",
       "      <th>key</th>\n",
       "      <th>mode</th>\n",
       "      <th>time_signature</th>\n",
       "    </tr>\n",
       "  </thead>\n",
       "  <tbody>\n",
       "    <tr>\n",
       "      <th>1</th>\n",
       "      <td>LA NOCHE DE ANOCHE</td>\n",
       "      <td>93</td>\n",
       "      <td>G</td>\n",
       "      <td>1</td>\n",
       "      <td>4</td>\n",
       "    </tr>\n",
       "    <tr>\n",
       "      <th>2</th>\n",
       "      <td>LOCATION</td>\n",
       "      <td>85</td>\n",
       "      <td>A</td>\n",
       "      <td>1</td>\n",
       "      <td>4</td>\n",
       "    </tr>\n",
       "    <tr>\n",
       "      <th>3</th>\n",
       "      <td>telepatía</td>\n",
       "      <td>92</td>\n",
       "      <td>B</td>\n",
       "      <td>0</td>\n",
       "      <td>4</td>\n",
       "    </tr>\n",
       "    <tr>\n",
       "      <th>4</th>\n",
       "      <td>Bandido</td>\n",
       "      <td>94</td>\n",
       "      <td>G♯/A♭</td>\n",
       "      <td>1</td>\n",
       "      <td>4</td>\n",
       "    </tr>\n",
       "    <tr>\n",
       "      <th>5</th>\n",
       "      <td>Hecha Pa' Mi</td>\n",
       "      <td>92</td>\n",
       "      <td>E</td>\n",
       "      <td>1</td>\n",
       "      <td>4</td>\n",
       "    </tr>\n",
       "  </tbody>\n",
       "</table>\n",
       "</div>"
      ],
      "text/plain": [
       "            song_name  track_popularity    key  mode  time_signature\n",
       "1  LA NOCHE DE ANOCHE                93      G     1               4\n",
       "2            LOCATION                85      A     1               4\n",
       "3           telepatía                92      B     0               4\n",
       "4             Bandido                94  G♯/A♭     1               4\n",
       "5        Hecha Pa' Mi                92      E     1               4"
      ]
     },
     "execution_count": 16,
     "metadata": {},
     "output_type": "execute_result"
    }
   ],
   "source": [
    "#Drop non harmonical or rythmical attributes (except for Popularity)\n",
    "\n",
    "k_frequency = keyDf.drop(['artist','album', 'album_release_date', 'explicit', 'danceability',\n",
    "                            'duration_ms', 'energy', 'instrumentalness', 'acousticness',\n",
    "                            'liveness', 'loudness', 'speechiness', 'tempo', \n",
    "                           'valence', 'song_id', 'preview_url', 'external_url'], axis=1)\n",
    "\n",
    "#Replace numerical labeling for harmonical labeling in df\n",
    "\n",
    "k_frequency['key'] = k_frequency['key'].replace([0],'C')\n",
    "k_frequency['key'] = k_frequency['key'].replace([1], 'D♯/D♭')\n",
    "k_frequency['key'] = k_frequency['key'].replace([2],'D')\n",
    "k_frequency['key'] = k_frequency['key'].replace([3], 'D♯/E♭')\n",
    "k_frequency['key'] = k_frequency['key'].replace([4],'E')\n",
    "k_frequency['key'] = k_frequency['key'].replace([5], 'F')\n",
    "k_frequency['key'] = k_frequency['key'].replace([6], 'F♯/G♭')\n",
    "k_frequency['key'] = k_frequency['key'].replace([7],'G')\n",
    "k_frequency['key'] = k_frequency['key'].replace([8], 'G♯/A♭')\n",
    "k_frequency['key'] = k_frequency['key'].replace([9],'A')\n",
    "k_frequency['key'] = k_frequency['key'].replace([10], 'A♯/B♭')\n",
    "k_frequency['key'] = k_frequency['key'].replace([11], 'B')\n",
    "\n",
    "#Now, the key column shows the musical keys instead of confusing numbers for users unfamiliar with Spotify API's documentation\n",
    "k_frequency.head(5)"
   ]
  },
  {
   "cell_type": "code",
   "execution_count": 17,
   "metadata": {},
   "outputs": [
    {
     "data": {
      "image/png": "[encoded data removed]",
      "text/plain": [
       "<Figure size 432x288 with 2 Axes>"
      ]
     },
     "metadata": {
      "needs_background": "light"
     },
     "output_type": "display_data"
    }
   ],
   "source": [
    "#By plotting these, we can se that there is a wide distribution between Keys and Popularity. Yellow represents songs written\n",
    "#in Major tones and purple, in minor\n",
    "pop_v_key = k_frequency.plot.scatter(x='key',\n",
    "                      y='track_popularity',\n",
    "                      c='mode',\n",
    "                      colormap='viridis')"
   ]
  },
  {
   "cell_type": "markdown",
   "metadata": {},
   "source": [
    "# Prepare data for ML models"
   ]
  },
  {
   "cell_type": "code",
   "execution_count": 20,
   "metadata": {},
   "outputs": [
    {
     "data": {
      "text/html": [
       "<div>\n",
       "<style scoped>\n",
       "    .dataframe tbody tr th:only-of-type {\n",
       "        vertical-align: middle;\n",
       "    }\n",
       "\n",
       "    .dataframe tbody tr th {\n",
       "        vertical-align: top;\n",
       "    }\n",
       "\n",
       "    .dataframe thead th {\n",
       "        text-align: right;\n",
       "    }\n",
       "</style>\n",
       "<table border=\"1\" class=\"dataframe\">\n",
       "  <thead>\n",
       "    <tr style=\"text-align: right;\">\n",
       "      <th></th>\n",
       "      <th>song_name</th>\n",
       "      <th>artist</th>\n",
       "      <th>album</th>\n",
       "      <th>album_release_date</th>\n",
       "      <th>track_popularity</th>\n",
       "      <th>explicit</th>\n",
       "      <th>danceability</th>\n",
       "      <th>energy</th>\n",
       "      <th>key</th>\n",
       "      <th>loudness</th>\n",
       "      <th>...</th>\n",
       "      <th>acousticness</th>\n",
       "      <th>instrumentalness</th>\n",
       "      <th>liveness</th>\n",
       "      <th>valence</th>\n",
       "      <th>tempo</th>\n",
       "      <th>duration_ms</th>\n",
       "      <th>time_signature</th>\n",
       "      <th>song_id</th>\n",
       "      <th>preview_url</th>\n",
       "      <th>external_url</th>\n",
       "    </tr>\n",
       "  </thead>\n",
       "  <tbody>\n",
       "    <tr>\n",
       "      <th>0</th>\n",
       "      <td>Dámelo To’ (feat. Myke Towers)</td>\n",
       "      <td>Selena Gomez</td>\n",
       "      <td>Revelación - EP</td>\n",
       "      <td>2021-03-12</td>\n",
       "      <td>40</td>\n",
       "      <td>0.0</td>\n",
       "      <td>0.787</td>\n",
       "      <td>0.641</td>\n",
       "      <td>8</td>\n",
       "      <td>-7.376</td>\n",
       "      <td>...</td>\n",
       "      <td>0.1010</td>\n",
       "      <td>0.00534</td>\n",
       "      <td>0.0700</td>\n",
       "      <td>0.437</td>\n",
       "      <td>182.003</td>\n",
       "      <td>184134</td>\n",
       "      <td>4</td>\n",
       "      <td>36CiGk9oRdwTnBDMgKEfjl</td>\n",
       "      <td>NaN</td>\n",
       "      <td>https://open.spotify.com/track/36CiGk9oRdwTnBD...</td>\n",
       "    </tr>\n",
       "    <tr>\n",
       "      <th>1</th>\n",
       "      <td>LA NOCHE DE ANOCHE</td>\n",
       "      <td>Bad Bunny</td>\n",
       "      <td>EL ÚLTIMO TOUR DEL MUNDO</td>\n",
       "      <td>2020-11-27</td>\n",
       "      <td>93</td>\n",
       "      <td>0.0</td>\n",
       "      <td>0.856</td>\n",
       "      <td>0.618</td>\n",
       "      <td>7</td>\n",
       "      <td>-4.892</td>\n",
       "      <td>...</td>\n",
       "      <td>0.0303</td>\n",
       "      <td>0.00000</td>\n",
       "      <td>0.0866</td>\n",
       "      <td>0.391</td>\n",
       "      <td>81.993</td>\n",
       "      <td>203201</td>\n",
       "      <td>4</td>\n",
       "      <td>2XIc1pqjXV3Cr2BQUGNBck</td>\n",
       "      <td>https://p.scdn.co/mp3-preview/a98b639351290bdb...</td>\n",
       "      <td>https://open.spotify.com/track/2XIc1pqjXV3Cr2B...</td>\n",
       "    </tr>\n",
       "    <tr>\n",
       "      <th>2</th>\n",
       "      <td>LOCATION</td>\n",
       "      <td>KAROL G</td>\n",
       "      <td>LOCATION</td>\n",
       "      <td>2021-02-12</td>\n",
       "      <td>85</td>\n",
       "      <td>1.0</td>\n",
       "      <td>0.772</td>\n",
       "      <td>0.758</td>\n",
       "      <td>9</td>\n",
       "      <td>-3.891</td>\n",
       "      <td>...</td>\n",
       "      <td>0.0433</td>\n",
       "      <td>0.00000</td>\n",
       "      <td>0.2950</td>\n",
       "      <td>0.654</td>\n",
       "      <td>115.977</td>\n",
       "      <td>265240</td>\n",
       "      <td>4</td>\n",
       "      <td>5Km4r87BoX2qqtoprYS1gh</td>\n",
       "      <td>NaN</td>\n",
       "      <td>https://open.spotify.com/track/5Km4r87BoX2qqto...</td>\n",
       "    </tr>\n",
       "    <tr>\n",
       "      <th>3</th>\n",
       "      <td>telepatía</td>\n",
       "      <td>Kali Uchis</td>\n",
       "      <td>Sin Miedo (del Amor y Otros Demonios) ∞</td>\n",
       "      <td>2020-12-04</td>\n",
       "      <td>92</td>\n",
       "      <td>0.0</td>\n",
       "      <td>0.653</td>\n",
       "      <td>0.524</td>\n",
       "      <td>11</td>\n",
       "      <td>-9.016</td>\n",
       "      <td>...</td>\n",
       "      <td>0.1120</td>\n",
       "      <td>0.00000</td>\n",
       "      <td>0.2030</td>\n",
       "      <td>0.553</td>\n",
       "      <td>83.970</td>\n",
       "      <td>160191</td>\n",
       "      <td>4</td>\n",
       "      <td>6tDDoYIxWvMLTdKpjFkc1B</td>\n",
       "      <td>NaN</td>\n",
       "      <td>https://open.spotify.com/track/6tDDoYIxWvMLTdK...</td>\n",
       "    </tr>\n",
       "    <tr>\n",
       "      <th>4</th>\n",
       "      <td>Bandido</td>\n",
       "      <td>Myke Towers</td>\n",
       "      <td>Bandido</td>\n",
       "      <td>2020-12-10</td>\n",
       "      <td>94</td>\n",
       "      <td>0.0</td>\n",
       "      <td>0.713</td>\n",
       "      <td>0.617</td>\n",
       "      <td>8</td>\n",
       "      <td>-4.637</td>\n",
       "      <td>...</td>\n",
       "      <td>0.1220</td>\n",
       "      <td>0.00000</td>\n",
       "      <td>0.0962</td>\n",
       "      <td>0.682</td>\n",
       "      <td>168.021</td>\n",
       "      <td>232853</td>\n",
       "      <td>4</td>\n",
       "      <td>1xK1Gg9SxG8fy2Ya373oqb</td>\n",
       "      <td>https://p.scdn.co/mp3-preview/99b834a17f7f6089...</td>\n",
       "      <td>https://open.spotify.com/track/1xK1Gg9SxG8fy2Y...</td>\n",
       "    </tr>\n",
       "  </tbody>\n",
       "</table>\n",
       "<p>5 rows × 22 columns</p>\n",
       "</div>"
      ],
      "text/plain": [
       "                        song_name        artist  \\\n",
       "0  Dámelo To’ (feat. Myke Towers)  Selena Gomez   \n",
       "1              LA NOCHE DE ANOCHE     Bad Bunny   \n",
       "2                        LOCATION       KAROL G   \n",
       "3                       telepatía    Kali Uchis   \n",
       "4                         Bandido   Myke Towers   \n",
       "\n",
       "                                     album album_release_date  \\\n",
       "0                          Revelación - EP         2021-03-12   \n",
       "1                 EL ÚLTIMO TOUR DEL MUNDO         2020-11-27   \n",
       "2                                 LOCATION         2021-02-12   \n",
       "3  Sin Miedo (del Amor y Otros Demonios) ∞         2020-12-04   \n",
       "4                                  Bandido         2020-12-10   \n",
       "\n",
       "   track_popularity  explicit  danceability  energy  key  loudness  ...  \\\n",
       "0                40       0.0         0.787   0.641    8    -7.376  ...   \n",
       "1                93       0.0         0.856   0.618    7    -4.892  ...   \n",
       "2                85       1.0         0.772   0.758    9    -3.891  ...   \n",
       "3                92       0.0         0.653   0.524   11    -9.016  ...   \n",
       "4                94       0.0         0.713   0.617    8    -4.637  ...   \n",
       "\n",
       "   acousticness  instrumentalness  liveness  valence    tempo  duration_ms  \\\n",
       "0        0.1010           0.00534    0.0700    0.437  182.003       184134   \n",
       "1        0.0303           0.00000    0.0866    0.391   81.993       203201   \n",
       "2        0.0433           0.00000    0.2950    0.654  115.977       265240   \n",
       "3        0.1120           0.00000    0.2030    0.553   83.970       160191   \n",
       "4        0.1220           0.00000    0.0962    0.682  168.021       232853   \n",
       "\n",
       "   time_signature                 song_id  \\\n",
       "0               4  36CiGk9oRdwTnBDMgKEfjl   \n",
       "1               4  2XIc1pqjXV3Cr2BQUGNBck   \n",
       "2               4  5Km4r87BoX2qqtoprYS1gh   \n",
       "3               4  6tDDoYIxWvMLTdKpjFkc1B   \n",
       "4               4  1xK1Gg9SxG8fy2Ya373oqb   \n",
       "\n",
       "                                         preview_url  \\\n",
       "0                                                NaN   \n",
       "1  https://p.scdn.co/mp3-preview/a98b639351290bdb...   \n",
       "2                                                NaN   \n",
       "3                                                NaN   \n",
       "4  https://p.scdn.co/mp3-preview/99b834a17f7f6089...   \n",
       "\n",
       "                                        external_url  \n",
       "0  https://open.spotify.com/track/36CiGk9oRdwTnBD...  \n",
       "1  https://open.spotify.com/track/2XIc1pqjXV3Cr2B...  \n",
       "2  https://open.spotify.com/track/5Km4r87BoX2qqto...  \n",
       "3  https://open.spotify.com/track/6tDDoYIxWvMLTdK...  \n",
       "4  https://open.spotify.com/track/1xK1Gg9SxG8fy2Y...  \n",
       "\n",
       "[5 rows x 22 columns]"
      ]
     },
     "execution_count": 20,
     "metadata": {},
     "output_type": "execute_result"
    }
   ],
   "source": [
    "#Check columns and select the most relevant statistic attributes according to observed correlationships\n",
    "df.head(5)"
   ]
  },
  {
   "cell_type": "code",
   "execution_count": 10,
   "metadata": {},
   "outputs": [
    {
     "data": {
      "text/html": [
       "<div>\n",
       "<style scoped>\n",
       "    .dataframe tbody tr th:only-of-type {\n",
       "        vertical-align: middle;\n",
       "    }\n",
       "\n",
       "    .dataframe tbody tr th {\n",
       "        vertical-align: top;\n",
       "    }\n",
       "\n",
       "    .dataframe thead th {\n",
       "        text-align: right;\n",
       "    }\n",
       "</style>\n",
       "<table border=\"1\" class=\"dataframe\">\n",
       "  <thead>\n",
       "    <tr style=\"text-align: right;\">\n",
       "      <th></th>\n",
       "      <th>track_popularity</th>\n",
       "      <th>explicit</th>\n",
       "      <th>danceability</th>\n",
       "      <th>energy</th>\n",
       "      <th>key</th>\n",
       "      <th>loudness</th>\n",
       "      <th>mode</th>\n",
       "      <th>speechiness</th>\n",
       "      <th>acousticness</th>\n",
       "      <th>instrumentalness</th>\n",
       "      <th>liveness</th>\n",
       "      <th>valence</th>\n",
       "      <th>tempo</th>\n",
       "      <th>duration_ms</th>\n",
       "      <th>time_signature</th>\n",
       "    </tr>\n",
       "  </thead>\n",
       "  <tbody>\n",
       "    <tr>\n",
       "      <th>0</th>\n",
       "      <td>40</td>\n",
       "      <td>0.0</td>\n",
       "      <td>0.787</td>\n",
       "      <td>0.641</td>\n",
       "      <td>8</td>\n",
       "      <td>-7.376</td>\n",
       "      <td>1</td>\n",
       "      <td>0.3150</td>\n",
       "      <td>0.1010</td>\n",
       "      <td>0.005340</td>\n",
       "      <td>0.0700</td>\n",
       "      <td>0.437</td>\n",
       "      <td>182.003</td>\n",
       "      <td>184134</td>\n",
       "      <td>4</td>\n",
       "    </tr>\n",
       "    <tr>\n",
       "      <th>1</th>\n",
       "      <td>93</td>\n",
       "      <td>0.0</td>\n",
       "      <td>0.856</td>\n",
       "      <td>0.618</td>\n",
       "      <td>7</td>\n",
       "      <td>-4.892</td>\n",
       "      <td>1</td>\n",
       "      <td>0.2860</td>\n",
       "      <td>0.0303</td>\n",
       "      <td>0.000000</td>\n",
       "      <td>0.0866</td>\n",
       "      <td>0.391</td>\n",
       "      <td>81.993</td>\n",
       "      <td>203201</td>\n",
       "      <td>4</td>\n",
       "    </tr>\n",
       "    <tr>\n",
       "      <th>2</th>\n",
       "      <td>85</td>\n",
       "      <td>1.0</td>\n",
       "      <td>0.772</td>\n",
       "      <td>0.758</td>\n",
       "      <td>9</td>\n",
       "      <td>-3.891</td>\n",
       "      <td>1</td>\n",
       "      <td>0.0482</td>\n",
       "      <td>0.0433</td>\n",
       "      <td>0.000000</td>\n",
       "      <td>0.2950</td>\n",
       "      <td>0.654</td>\n",
       "      <td>115.977</td>\n",
       "      <td>265240</td>\n",
       "      <td>4</td>\n",
       "    </tr>\n",
       "    <tr>\n",
       "      <th>3</th>\n",
       "      <td>92</td>\n",
       "      <td>0.0</td>\n",
       "      <td>0.653</td>\n",
       "      <td>0.524</td>\n",
       "      <td>11</td>\n",
       "      <td>-9.016</td>\n",
       "      <td>0</td>\n",
       "      <td>0.0502</td>\n",
       "      <td>0.1120</td>\n",
       "      <td>0.000000</td>\n",
       "      <td>0.2030</td>\n",
       "      <td>0.553</td>\n",
       "      <td>83.970</td>\n",
       "      <td>160191</td>\n",
       "      <td>4</td>\n",
       "    </tr>\n",
       "    <tr>\n",
       "      <th>4</th>\n",
       "      <td>94</td>\n",
       "      <td>0.0</td>\n",
       "      <td>0.713</td>\n",
       "      <td>0.617</td>\n",
       "      <td>8</td>\n",
       "      <td>-4.637</td>\n",
       "      <td>1</td>\n",
       "      <td>0.0887</td>\n",
       "      <td>0.1220</td>\n",
       "      <td>0.000000</td>\n",
       "      <td>0.0962</td>\n",
       "      <td>0.682</td>\n",
       "      <td>168.021</td>\n",
       "      <td>232853</td>\n",
       "      <td>4</td>\n",
       "    </tr>\n",
       "    <tr>\n",
       "      <th>...</th>\n",
       "      <td>...</td>\n",
       "      <td>...</td>\n",
       "      <td>...</td>\n",
       "      <td>...</td>\n",
       "      <td>...</td>\n",
       "      <td>...</td>\n",
       "      <td>...</td>\n",
       "      <td>...</td>\n",
       "      <td>...</td>\n",
       "      <td>...</td>\n",
       "      <td>...</td>\n",
       "      <td>...</td>\n",
       "      <td>...</td>\n",
       "      <td>...</td>\n",
       "      <td>...</td>\n",
       "    </tr>\n",
       "    <tr>\n",
       "      <th>167495</th>\n",
       "      <td>2</td>\n",
       "      <td>0.0</td>\n",
       "      <td>0.732</td>\n",
       "      <td>0.670</td>\n",
       "      <td>7</td>\n",
       "      <td>-12.455</td>\n",
       "      <td>1</td>\n",
       "      <td>0.0443</td>\n",
       "      <td>0.0013</td>\n",
       "      <td>0.941000</td>\n",
       "      <td>0.0960</td>\n",
       "      <td>0.905</td>\n",
       "      <td>103.073</td>\n",
       "      <td>219794</td>\n",
       "      <td>4</td>\n",
       "    </tr>\n",
       "    <tr>\n",
       "      <th>167496</th>\n",
       "      <td>2</td>\n",
       "      <td>0.0</td>\n",
       "      <td>0.859</td>\n",
       "      <td>0.869</td>\n",
       "      <td>7</td>\n",
       "      <td>-5.138</td>\n",
       "      <td>1</td>\n",
       "      <td>0.0518</td>\n",
       "      <td>0.1340</td>\n",
       "      <td>0.000383</td>\n",
       "      <td>0.0263</td>\n",
       "      <td>0.923</td>\n",
       "      <td>99.424</td>\n",
       "      <td>167147</td>\n",
       "      <td>4</td>\n",
       "    </tr>\n",
       "    <tr>\n",
       "      <th>167497</th>\n",
       "      <td>1</td>\n",
       "      <td>0.0</td>\n",
       "      <td>0.763</td>\n",
       "      <td>0.369</td>\n",
       "      <td>7</td>\n",
       "      <td>-9.124</td>\n",
       "      <td>1</td>\n",
       "      <td>0.0332</td>\n",
       "      <td>0.2460</td>\n",
       "      <td>0.000000</td>\n",
       "      <td>0.0532</td>\n",
       "      <td>0.915</td>\n",
       "      <td>92.314</td>\n",
       "      <td>193733</td>\n",
       "      <td>4</td>\n",
       "    </tr>\n",
       "    <tr>\n",
       "      <th>167498</th>\n",
       "      <td>7</td>\n",
       "      <td>0.0</td>\n",
       "      <td>0.691</td>\n",
       "      <td>0.578</td>\n",
       "      <td>7</td>\n",
       "      <td>-7.174</td>\n",
       "      <td>1</td>\n",
       "      <td>0.0594</td>\n",
       "      <td>0.2510</td>\n",
       "      <td>0.000000</td>\n",
       "      <td>0.0439</td>\n",
       "      <td>0.965</td>\n",
       "      <td>99.877</td>\n",
       "      <td>174800</td>\n",
       "      <td>4</td>\n",
       "    </tr>\n",
       "    <tr>\n",
       "      <th>167499</th>\n",
       "      <td>12</td>\n",
       "      <td>0.0</td>\n",
       "      <td>0.730</td>\n",
       "      <td>0.879</td>\n",
       "      <td>6</td>\n",
       "      <td>-4.723</td>\n",
       "      <td>0</td>\n",
       "      <td>0.0785</td>\n",
       "      <td>0.3680</td>\n",
       "      <td>0.000000</td>\n",
       "      <td>0.0742</td>\n",
       "      <td>0.898</td>\n",
       "      <td>98.044</td>\n",
       "      <td>193440</td>\n",
       "      <td>4</td>\n",
       "    </tr>\n",
       "  </tbody>\n",
       "</table>\n",
       "<p>167500 rows × 15 columns</p>\n",
       "</div>"
      ],
      "text/plain": [
       "        track_popularity  explicit  danceability  energy  key  loudness  mode  \\\n",
       "0                     40       0.0         0.787   0.641    8    -7.376     1   \n",
       "1                     93       0.0         0.856   0.618    7    -4.892     1   \n",
       "2                     85       1.0         0.772   0.758    9    -3.891     1   \n",
       "3                     92       0.0         0.653   0.524   11    -9.016     0   \n",
       "4                     94       0.0         0.713   0.617    8    -4.637     1   \n",
       "...                  ...       ...           ...     ...  ...       ...   ...   \n",
       "167495                 2       0.0         0.732   0.670    7   -12.455     1   \n",
       "167496                 2       0.0         0.859   0.869    7    -5.138     1   \n",
       "167497                 1       0.0         0.763   0.369    7    -9.124     1   \n",
       "167498                 7       0.0         0.691   0.578    7    -7.174     1   \n",
       "167499                12       0.0         0.730   0.879    6    -4.723     0   \n",
       "\n",
       "        speechiness  acousticness  instrumentalness  liveness  valence  \\\n",
       "0            0.3150        0.1010          0.005340    0.0700    0.437   \n",
       "1            0.2860        0.0303          0.000000    0.0866    0.391   \n",
       "2            0.0482        0.0433          0.000000    0.2950    0.654   \n",
       "3            0.0502        0.1120          0.000000    0.2030    0.553   \n",
       "4            0.0887        0.1220          0.000000    0.0962    0.682   \n",
       "...             ...           ...               ...       ...      ...   \n",
       "167495       0.0443        0.0013          0.941000    0.0960    0.905   \n",
       "167496       0.0518        0.1340          0.000383    0.0263    0.923   \n",
       "167497       0.0332        0.2460          0.000000    0.0532    0.915   \n",
       "167498       0.0594        0.2510          0.000000    0.0439    0.965   \n",
       "167499       0.0785        0.3680          0.000000    0.0742    0.898   \n",
       "\n",
       "          tempo  duration_ms  time_signature  \n",
       "0       182.003       184134               4  \n",
       "1        81.993       203201               4  \n",
       "2       115.977       265240               4  \n",
       "3        83.970       160191               4  \n",
       "4       168.021       232853               4  \n",
       "...         ...          ...             ...  \n",
       "167495  103.073       219794               4  \n",
       "167496   99.424       167147               4  \n",
       "167497   92.314       193733               4  \n",
       "167498   99.877       174800               4  \n",
       "167499   98.044       193440               4  \n",
       "\n",
       "[167500 rows x 15 columns]"
      ]
     },
     "execution_count": 10,
     "metadata": {},
     "output_type": "execute_result"
    }
   ],
   "source": [
    "#Drop unique values columns such as Number, Title and year\n",
    "mlData = df.drop(['song_name', 'artist', 'album', 'album_release_date', 'song_id', 'preview_url', 'external_url'], axis=1)\n",
    "\n",
    "#Create binnary column based on track_popularity. This will 'rate' the most popular songs with 1 and the less popular songs, with 0\n",
    "# mlData['popular'] = pd.cut(mlData['track_popularity'], bins=2, labels=[0, 1])\n",
    "\n",
    "#Drop original Popularity column (track_popularity)\n",
    "# mlData = mlData.drop(['track_popularity'], axis=1)\n",
    "\n",
    "#We now have only numerical values, specially for Popularity, that will become the Y axis.\n",
    "mlData"
   ]
  },
  {
   "cell_type": "markdown",
   "metadata": {},
   "source": [
    "## Extra: From top popular songs (Popularity => 70), create X and y axis csv files for testing purposes."
   ]
  },
  {
   "cell_type": "code",
   "execution_count": 11,
   "metadata": {},
   "outputs": [
    {
     "ename": "NameError",
     "evalue": "name 'keyDf' is not defined",
     "output_type": "error",
     "traceback": [
      "\u001b[1;31m---------------------------------------------------------------------------\u001b[0m",
      "\u001b[1;31mNameError\u001b[0m                                 Traceback (most recent call last)",
      "\u001b[1;32m<ipython-input-11-568b9293b2d1>\u001b[0m in \u001b[0;36m<module>\u001b[1;34m\u001b[0m\n\u001b[0;32m      1\u001b[0m \u001b[1;31m# From df, create X and y CSV files to be fitted into the ML model.\u001b[0m\u001b[1;33m\u001b[0m\u001b[1;33m\u001b[0m\u001b[1;33m\u001b[0m\u001b[0m\n\u001b[1;32m----> 2\u001b[1;33m \u001b[0mkey_y\u001b[0m \u001b[1;33m=\u001b[0m \u001b[0mkeyDf\u001b[0m\u001b[1;33m.\u001b[0m\u001b[0mloc\u001b[0m\u001b[1;33m[\u001b[0m\u001b[1;33m:\u001b[0m\u001b[1;33m,\u001b[0m \u001b[1;34m'track_popularity'\u001b[0m\u001b[1;33m]\u001b[0m\u001b[1;33m\u001b[0m\u001b[1;33m\u001b[0m\u001b[0m\n\u001b[0m\u001b[0;32m      3\u001b[0m \u001b[0mkey_X\u001b[0m \u001b[1;33m=\u001b[0m \u001b[0mkeyDf\u001b[0m\u001b[1;33m.\u001b[0m\u001b[0mdrop\u001b[0m\u001b[1;33m(\u001b[0m\u001b[1;34m'track_popularity'\u001b[0m\u001b[1;33m,\u001b[0m \u001b[0maxis\u001b[0m\u001b[1;33m=\u001b[0m\u001b[1;36m1\u001b[0m\u001b[1;33m)\u001b[0m\u001b[1;33m\u001b[0m\u001b[1;33m\u001b[0m\u001b[0m\n\u001b[0;32m      4\u001b[0m \u001b[1;33m\u001b[0m\u001b[0m\n\u001b[0;32m      5\u001b[0m \u001b[0mkey_X\u001b[0m\u001b[1;33m.\u001b[0m\u001b[0mto_csv\u001b[0m\u001b[1;33m(\u001b[0m\u001b[1;34m'data/key_X.csv'\u001b[0m\u001b[1;33m,\u001b[0m \u001b[0mindex\u001b[0m\u001b[1;33m=\u001b[0m\u001b[1;32mFalse\u001b[0m\u001b[1;33m)\u001b[0m\u001b[1;33m\u001b[0m\u001b[1;33m\u001b[0m\u001b[0m\n",
      "\u001b[1;31mNameError\u001b[0m: name 'keyDf' is not defined"
     ]
    }
   ],
   "source": [
    "# From df, create X and y CSV files to be fitted into the ML model.\n",
    "key_y = keyDf.loc[:, 'track_popularity']\n",
    "key_X = keyDf.drop('track_popularity', axis=1)\n",
    "\n",
    "key_X.to_csv('data/key_X.csv', index=False)\n",
    "key_y.to_csv('data/key_y.csv', index=False)\n",
    "\n"
   ]
  },
  {
   "cell_type": "markdown",
   "metadata": {},
   "source": [
    "#### Splitting and scaling data"
   ]
  },
  {
   "cell_type": "code",
   "execution_count": 12,
   "metadata": {},
   "outputs": [],
   "source": [
    "#Import scikitlearn dependencies and tools\n",
    "from sklearn.preprocessing import StandardScaler\n",
    "from sklearn.model_selection import train_test_split\n",
    "\n",
    "from sklearn.linear_model import LogisticRegression\n",
    "from sklearn.neighbors import KNeighborsClassifier\n",
    "from sklearn.tree import DecisionTreeClassifier\n",
    "from sklearn.neural_network import MLPClassifier\n",
    "from sklearn.svm import SVC\n",
    "from sklearn.ensemble import RandomForestClassifier"
   ]
  },
  {
   "cell_type": "code",
   "execution_count": 14,
   "metadata": {},
   "outputs": [],
   "source": [
    "#Split between y = popular / X = all the other attributes\n",
    "y = mlData.loc[:, 'track_popularity']\n",
    "X = mlData.drop('track_popularity', axis=1)"
   ]
  },
  {
   "cell_type": "code",
   "execution_count": 15,
   "metadata": {},
   "outputs": [],
   "source": [
    "#Define train and test variables\n",
    "X_train, X_test, y_train, y_test = train_test_split(X, y, train_size=0.2, random_state=0)"
   ]
  },
  {
   "cell_type": "code",
   "execution_count": 13,
   "metadata": {},
   "outputs": [],
   "source": [
    "#Scale and fit\n",
    "X_scaler = StandardScaler().fit(X_train)\n",
    "X_train_scaled = X_scaler.transform(X_train)\n",
    "X_test_scaled = X_scaler.transform(X_test)"
   ]
  },
  {
   "cell_type": "markdown",
   "metadata": {},
   "source": [
    "### Create pipeline"
   ]
  },
  {
   "cell_type": "code",
   "execution_count": 14,
   "metadata": {},
   "outputs": [],
   "source": [
    "from   sklearn.pipeline           import Pipeline"
   ]
  },
  {
   "cell_type": "code",
   "execution_count": 15,
   "metadata": {},
   "outputs": [],
   "source": [
    "col = X.columns.tolist()"
   ]
  },
  {
   "cell_type": "code",
   "execution_count": 16,
   "metadata": {},
   "outputs": [
    {
     "data": {
      "text/html": [
       "<div>\n",
       "<style scoped>\n",
       "    .dataframe tbody tr th:only-of-type {\n",
       "        vertical-align: middle;\n",
       "    }\n",
       "\n",
       "    .dataframe tbody tr th {\n",
       "        vertical-align: top;\n",
       "    }\n",
       "\n",
       "    .dataframe thead th {\n",
       "        text-align: right;\n",
       "    }\n",
       "</style>\n",
       "<table border=\"1\" class=\"dataframe\">\n",
       "  <thead>\n",
       "    <tr style=\"text-align: right;\">\n",
       "      <th></th>\n",
       "      <th>explicit</th>\n",
       "      <th>danceability</th>\n",
       "      <th>energy</th>\n",
       "      <th>key</th>\n",
       "      <th>loudness</th>\n",
       "      <th>mode</th>\n",
       "      <th>speechiness</th>\n",
       "      <th>acousticness</th>\n",
       "      <th>instrumentalness</th>\n",
       "      <th>liveness</th>\n",
       "      <th>valence</th>\n",
       "      <th>tempo</th>\n",
       "      <th>duration_ms</th>\n",
       "      <th>time_signature</th>\n",
       "    </tr>\n",
       "  </thead>\n",
       "  <tbody>\n",
       "    <tr>\n",
       "      <th>0</th>\n",
       "      <td>0.0</td>\n",
       "      <td>0.787</td>\n",
       "      <td>0.641</td>\n",
       "      <td>8</td>\n",
       "      <td>-7.376</td>\n",
       "      <td>1</td>\n",
       "      <td>0.3150</td>\n",
       "      <td>0.1010</td>\n",
       "      <td>0.005340</td>\n",
       "      <td>0.0700</td>\n",
       "      <td>0.437</td>\n",
       "      <td>182.003</td>\n",
       "      <td>184134</td>\n",
       "      <td>4</td>\n",
       "    </tr>\n",
       "    <tr>\n",
       "      <th>1</th>\n",
       "      <td>0.0</td>\n",
       "      <td>0.856</td>\n",
       "      <td>0.618</td>\n",
       "      <td>7</td>\n",
       "      <td>-4.892</td>\n",
       "      <td>1</td>\n",
       "      <td>0.2860</td>\n",
       "      <td>0.0303</td>\n",
       "      <td>0.000000</td>\n",
       "      <td>0.0866</td>\n",
       "      <td>0.391</td>\n",
       "      <td>81.993</td>\n",
       "      <td>203201</td>\n",
       "      <td>4</td>\n",
       "    </tr>\n",
       "    <tr>\n",
       "      <th>2</th>\n",
       "      <td>1.0</td>\n",
       "      <td>0.772</td>\n",
       "      <td>0.758</td>\n",
       "      <td>9</td>\n",
       "      <td>-3.891</td>\n",
       "      <td>1</td>\n",
       "      <td>0.0482</td>\n",
       "      <td>0.0433</td>\n",
       "      <td>0.000000</td>\n",
       "      <td>0.2950</td>\n",
       "      <td>0.654</td>\n",
       "      <td>115.977</td>\n",
       "      <td>265240</td>\n",
       "      <td>4</td>\n",
       "    </tr>\n",
       "    <tr>\n",
       "      <th>3</th>\n",
       "      <td>0.0</td>\n",
       "      <td>0.653</td>\n",
       "      <td>0.524</td>\n",
       "      <td>11</td>\n",
       "      <td>-9.016</td>\n",
       "      <td>0</td>\n",
       "      <td>0.0502</td>\n",
       "      <td>0.1120</td>\n",
       "      <td>0.000000</td>\n",
       "      <td>0.2030</td>\n",
       "      <td>0.553</td>\n",
       "      <td>83.970</td>\n",
       "      <td>160191</td>\n",
       "      <td>4</td>\n",
       "    </tr>\n",
       "    <tr>\n",
       "      <th>4</th>\n",
       "      <td>0.0</td>\n",
       "      <td>0.713</td>\n",
       "      <td>0.617</td>\n",
       "      <td>8</td>\n",
       "      <td>-4.637</td>\n",
       "      <td>1</td>\n",
       "      <td>0.0887</td>\n",
       "      <td>0.1220</td>\n",
       "      <td>0.000000</td>\n",
       "      <td>0.0962</td>\n",
       "      <td>0.682</td>\n",
       "      <td>168.021</td>\n",
       "      <td>232853</td>\n",
       "      <td>4</td>\n",
       "    </tr>\n",
       "    <tr>\n",
       "      <th>...</th>\n",
       "      <td>...</td>\n",
       "      <td>...</td>\n",
       "      <td>...</td>\n",
       "      <td>...</td>\n",
       "      <td>...</td>\n",
       "      <td>...</td>\n",
       "      <td>...</td>\n",
       "      <td>...</td>\n",
       "      <td>...</td>\n",
       "      <td>...</td>\n",
       "      <td>...</td>\n",
       "      <td>...</td>\n",
       "      <td>...</td>\n",
       "      <td>...</td>\n",
       "    </tr>\n",
       "    <tr>\n",
       "      <th>167495</th>\n",
       "      <td>0.0</td>\n",
       "      <td>0.732</td>\n",
       "      <td>0.670</td>\n",
       "      <td>7</td>\n",
       "      <td>-12.455</td>\n",
       "      <td>1</td>\n",
       "      <td>0.0443</td>\n",
       "      <td>0.0013</td>\n",
       "      <td>0.941000</td>\n",
       "      <td>0.0960</td>\n",
       "      <td>0.905</td>\n",
       "      <td>103.073</td>\n",
       "      <td>219794</td>\n",
       "      <td>4</td>\n",
       "    </tr>\n",
       "    <tr>\n",
       "      <th>167496</th>\n",
       "      <td>0.0</td>\n",
       "      <td>0.859</td>\n",
       "      <td>0.869</td>\n",
       "      <td>7</td>\n",
       "      <td>-5.138</td>\n",
       "      <td>1</td>\n",
       "      <td>0.0518</td>\n",
       "      <td>0.1340</td>\n",
       "      <td>0.000383</td>\n",
       "      <td>0.0263</td>\n",
       "      <td>0.923</td>\n",
       "      <td>99.424</td>\n",
       "      <td>167147</td>\n",
       "      <td>4</td>\n",
       "    </tr>\n",
       "    <tr>\n",
       "      <th>167497</th>\n",
       "      <td>0.0</td>\n",
       "      <td>0.763</td>\n",
       "      <td>0.369</td>\n",
       "      <td>7</td>\n",
       "      <td>-9.124</td>\n",
       "      <td>1</td>\n",
       "      <td>0.0332</td>\n",
       "      <td>0.2460</td>\n",
       "      <td>0.000000</td>\n",
       "      <td>0.0532</td>\n",
       "      <td>0.915</td>\n",
       "      <td>92.314</td>\n",
       "      <td>193733</td>\n",
       "      <td>4</td>\n",
       "    </tr>\n",
       "    <tr>\n",
       "      <th>167498</th>\n",
       "      <td>0.0</td>\n",
       "      <td>0.691</td>\n",
       "      <td>0.578</td>\n",
       "      <td>7</td>\n",
       "      <td>-7.174</td>\n",
       "      <td>1</td>\n",
       "      <td>0.0594</td>\n",
       "      <td>0.2510</td>\n",
       "      <td>0.000000</td>\n",
       "      <td>0.0439</td>\n",
       "      <td>0.965</td>\n",
       "      <td>99.877</td>\n",
       "      <td>174800</td>\n",
       "      <td>4</td>\n",
       "    </tr>\n",
       "    <tr>\n",
       "      <th>167499</th>\n",
       "      <td>0.0</td>\n",
       "      <td>0.730</td>\n",
       "      <td>0.879</td>\n",
       "      <td>6</td>\n",
       "      <td>-4.723</td>\n",
       "      <td>0</td>\n",
       "      <td>0.0785</td>\n",
       "      <td>0.3680</td>\n",
       "      <td>0.000000</td>\n",
       "      <td>0.0742</td>\n",
       "      <td>0.898</td>\n",
       "      <td>98.044</td>\n",
       "      <td>193440</td>\n",
       "      <td>4</td>\n",
       "    </tr>\n",
       "  </tbody>\n",
       "</table>\n",
       "<p>167500 rows × 14 columns</p>\n",
       "</div>"
      ],
      "text/plain": [
       "        explicit  danceability  energy  key  loudness  mode  speechiness  \\\n",
       "0            0.0         0.787   0.641    8    -7.376     1       0.3150   \n",
       "1            0.0         0.856   0.618    7    -4.892     1       0.2860   \n",
       "2            1.0         0.772   0.758    9    -3.891     1       0.0482   \n",
       "3            0.0         0.653   0.524   11    -9.016     0       0.0502   \n",
       "4            0.0         0.713   0.617    8    -4.637     1       0.0887   \n",
       "...          ...           ...     ...  ...       ...   ...          ...   \n",
       "167495       0.0         0.732   0.670    7   -12.455     1       0.0443   \n",
       "167496       0.0         0.859   0.869    7    -5.138     1       0.0518   \n",
       "167497       0.0         0.763   0.369    7    -9.124     1       0.0332   \n",
       "167498       0.0         0.691   0.578    7    -7.174     1       0.0594   \n",
       "167499       0.0         0.730   0.879    6    -4.723     0       0.0785   \n",
       "\n",
       "        acousticness  instrumentalness  liveness  valence    tempo  \\\n",
       "0             0.1010          0.005340    0.0700    0.437  182.003   \n",
       "1             0.0303          0.000000    0.0866    0.391   81.993   \n",
       "2             0.0433          0.000000    0.2950    0.654  115.977   \n",
       "3             0.1120          0.000000    0.2030    0.553   83.970   \n",
       "4             0.1220          0.000000    0.0962    0.682  168.021   \n",
       "...              ...               ...       ...      ...      ...   \n",
       "167495        0.0013          0.941000    0.0960    0.905  103.073   \n",
       "167496        0.1340          0.000383    0.0263    0.923   99.424   \n",
       "167497        0.2460          0.000000    0.0532    0.915   92.314   \n",
       "167498        0.2510          0.000000    0.0439    0.965   99.877   \n",
       "167499        0.3680          0.000000    0.0742    0.898   98.044   \n",
       "\n",
       "        duration_ms  time_signature  \n",
       "0            184134               4  \n",
       "1            203201               4  \n",
       "2            265240               4  \n",
       "3            160191               4  \n",
       "4            232853               4  \n",
       "...             ...             ...  \n",
       "167495       219794               4  \n",
       "167496       167147               4  \n",
       "167497       193733               4  \n",
       "167498       174800               4  \n",
       "167499       193440               4  \n",
       "\n",
       "[167500 rows x 14 columns]"
      ]
     },
     "execution_count": 16,
     "metadata": {},
     "output_type": "execute_result"
    }
   ],
   "source": [
    "X"
   ]
  },
  {
   "cell_type": "code",
   "execution_count": 17,
   "metadata": {},
   "outputs": [],
   "source": [
    "onehot_cat = ['mode','explicit', 'key'] # one hot encode these features"
   ]
  },
  {
   "cell_type": "code",
   "execution_count": 18,
   "metadata": {},
   "outputs": [],
   "source": [
    "con_cat = [i for i in col if i not in onehot_cat] # continuous data"
   ]
  },
  {
   "cell_type": "code",
   "execution_count": 19,
   "metadata": {},
   "outputs": [],
   "source": [
    "# Create onehotencoding pipeline, impute most frequent feature if missing\n",
    "cat_pipe = Pipeline([\n",
    "    ('ohe', OneHotEncoder(handle_unknown='ignore')),\n",
    "    ('imputer', SimpleImputer(strategy='most_frequent', add_indicator=True))\n",
    "])"
   ]
  },
  {
   "cell_type": "code",
   "execution_count": 20,
   "metadata": {},
   "outputs": [],
   "source": [
    "# Standardize continous data, use nearest neighbors for missing features\n",
    "con_pipe = Pipeline([\n",
    "    ('SS', StandardScaler()),\n",
    "    ('KNN', KNNImputer(n_neighbors=5))\n",
    "])"
   ]
  },
  {
   "cell_type": "code",
   "execution_count": 21,
   "metadata": {},
   "outputs": [],
   "source": [
    "# Using column transformer to pack all features together, and assign them as categorial and continous data\n",
    "preprocessor = ColumnTransformer([\n",
    "    ('categorical', cat_pipe, onehot_cat),\n",
    "    ('continuous', con_pipe, con_cat)\n",
    "])"
   ]
  },
  {
   "cell_type": "markdown",
   "metadata": {},
   "source": [
    "## Fitting ML models"
   ]
  },
  {
   "cell_type": "code",
   "execution_count": 22,
   "metadata": {},
   "outputs": [],
   "source": [
    "# define dummy estimator for testing regressors\n",
    "class DummyEstimator(BaseEstimator):\n",
    "    \"Pass through class, methods are present but do nothing.\"\n",
    "    def fit(self): pass\n",
    "    def score(self): pass"
   ]
  },
  {
   "cell_type": "markdown",
   "metadata": {},
   "source": [
    "### Ensemble Bagging\n",
    "###### Next, we are moving onto ensemble methods. Specifically Bagging and Random Forests. For bagging regressors, only two hyperparameters are explored here: n_est and max_features. n_est is specifying the number of trees in the model. This is done to reduce overfitting like decision trees. max_features represents the number of features chosen per each tree. This is a way of bootstrapping to weaken the trees. By doing so, this allows better generalization and avoid overfitting."
   ]
  },
  {
   "cell_type": "code",
   "execution_count": 23,
   "metadata": {},
   "outputs": [],
   "source": [
    "n_est = [100, 150] # num of trees (base_estimators)\n",
    "max_features = [0.8, 1.0] # features in base_estimators\n",
    "search_space = [{'bag': [BaggingRegressor(n_jobs=-1)], # Actual Estimator\n",
    "                 'bag__n_estimators': n_est,\n",
    "                 'bag__max_features': max_features}]\n",
    "\n",
    "bag_final_pipe = Pipeline([('preprocessor', preprocessor),\n",
    "                ('bag', TransformedTargetRegressor(regressor=DummyEstimator(),\n",
    "                                                         transformer=QuantileTransformer(n_quantiles=300,\n",
    "                                                         output_distribution='normal')))])                \n",
    "\n",
    "bag_randcv = RandomizedSearchCV(estimator=bag_final_pipe, \n",
    "                                 param_distributions=search_space,\n",
    "                                 cv=5,\n",
    "                                 scoring=['neg_root_mean_squared_error', 'neg_mean_squared_error'],\n",
    "                                 n_jobs=-1,\n",
    "                                 verbose=1,\n",
    "                                 random_state=42,\n",
    "                                 refit='neg_root_mean_squared_error')"
   ]
  },
  {
   "cell_type": "code",
   "execution_count": 24,
   "metadata": {},
   "outputs": [
    {
     "name": "stderr",
     "output_type": "stream",
     "text": [
      "c:\\users\\jonat\\desktop\\bootcamp\\bootcamp\\lib\\site-packages\\sklearn\\model_selection\\_search.py:285: UserWarning: The total space of parameters 4 is smaller than n_iter=10. Running 4 iterations. For exhaustive searches, use GridSearchCV.\n",
      "  warnings.warn(\n"
     ]
    },
    {
     "name": "stdout",
     "output_type": "stream",
     "text": [
      "Fitting 5 folds for each of 4 candidates, totalling 20 fits\n"
     ]
    },
    {
     "data": {
      "text/plain": [
       "RandomizedSearchCV(cv=5,\n",
       "                   estimator=Pipeline(steps=[('preprocessor',\n",
       "                                              ColumnTransformer(transformers=[('categorical',\n",
       "                                                                               Pipeline(steps=[('ohe',\n",
       "                                                                                                OneHotEncoder(handle_unknown='ignore')),\n",
       "                                                                                               ('imputer',\n",
       "                                                                                                SimpleImputer(add_indicator=True,\n",
       "                                                                                                              strategy='most_frequent'))]),\n",
       "                                                                               ['mode',\n",
       "                                                                                'explicit',\n",
       "                                                                                'key']),\n",
       "                                                                              ('continuous',\n",
       "                                                                               Pipeline(steps=[('SS',\n",
       "                                                                                                StandardScaler()),\n",
       "                                                                                               ('KNN',\n",
       "                                                                                                KNNImputer())...\n",
       "                                                                         transformer=QuantileTransformer(n_quantiles=300,\n",
       "                                                                                                         output_distribution='normal')))]),\n",
       "                   n_jobs=-1,\n",
       "                   param_distributions=[{'bag': [BaggingRegressor(max_features=0.8,\n",
       "                                                                  n_estimators=150,\n",
       "                                                                  n_jobs=-1)],\n",
       "                                         'bag__max_features': [0.8, 1.0],\n",
       "                                         'bag__n_estimators': [100, 150]}],\n",
       "                   random_state=42, refit='neg_root_mean_squared_error',\n",
       "                   scoring=['neg_root_mean_squared_error',\n",
       "                            'neg_mean_squared_error'],\n",
       "                   verbose=1)"
      ]
     },
     "execution_count": 24,
     "metadata": {},
     "output_type": "execute_result"
    }
   ],
   "source": [
    "bag_randcv.fit(X_train, y_train)"
   ]
  },
  {
   "cell_type": "code",
   "execution_count": 25,
   "metadata": {},
   "outputs": [
    {
     "data": {
      "text/plain": [
       "-20.430850413194158"
      ]
     },
     "execution_count": 25,
     "metadata": {},
     "output_type": "execute_result"
    }
   ],
   "source": [
    "bag_randcv.best_score_"
   ]
  },
  {
   "cell_type": "markdown",
   "metadata": {},
   "source": [
    "### Ensemble - Random Forest\n",
    "###### Next, we are moving onto ensemble methods. Specifically Bagging and Random Forests. For bagging regressors, only two hyperparameters are explored here: n_est and max_features. n_est is specifying the number of trees in the model. This is done to reduce overfitting like decision trees. max_features represents the number of features chosen per each tree. This is a way of bootstrapping to weaken the trees. By doing so, this allows better generalization and avoid overfitting."
   ]
  },
  {
   "cell_type": "code",
   "execution_count": 26,
   "metadata": {},
   "outputs": [],
   "source": [
    "n_est = [100, 150]\n",
    "min_samples_split = [2, 5]\n",
    "min_samples_leaf = [2]\n",
    "max_depth = [100, 150, 250]\n",
    "search_space = [{'rf': [RandomForestRegressor(n_jobs=-1)], # Actual Estimator\n",
    "                 'rf__n_estimators': n_est,\n",
    "                 'rf__min_samples_split': min_samples_split,\n",
    "                 'rf__min_samples_leaf': min_samples_leaf,\n",
    "                 'rf__max_depth': max_depth}]\n",
    "\n",
    "rf_final_pipe = Pipeline([('preprocessor', preprocessor),\n",
    "                ('rf', TransformedTargetRegressor(regressor=DummyEstimator(),\n",
    "                                                         transformer=QuantileTransformer(n_quantiles=300,\n",
    "                                                         output_distribution='normal')))])                \n",
    "\n",
    "rf_randcv = RandomizedSearchCV(estimator=rf_final_pipe, \n",
    "                                 param_distributions=search_space, \n",
    "                                 n_iter=12,\n",
    "                                 cv=5,\n",
    "                                 scoring=['neg_root_mean_squared_error', 'neg_mean_squared_error'],\n",
    "                                 n_jobs=-1,\n",
    "                                 verbose=1,\n",
    "                                 random_state=42,\n",
    "                                 refit='neg_root_mean_squared_error')"
   ]
  },
  {
   "cell_type": "code",
   "execution_count": 27,
   "metadata": {},
   "outputs": [
    {
     "name": "stdout",
     "output_type": "stream",
     "text": [
      "Fitting 5 folds for each of 12 candidates, totalling 60 fits\n"
     ]
    },
    {
     "data": {
      "text/plain": [
       "RandomizedSearchCV(cv=5,\n",
       "                   estimator=Pipeline(steps=[('preprocessor',\n",
       "                                              ColumnTransformer(transformers=[('categorical',\n",
       "                                                                               Pipeline(steps=[('ohe',\n",
       "                                                                                                OneHotEncoder(handle_unknown='ignore')),\n",
       "                                                                                               ('imputer',\n",
       "                                                                                                SimpleImputer(add_indicator=True,\n",
       "                                                                                                              strategy='most_frequent'))]),\n",
       "                                                                               ['mode',\n",
       "                                                                                'explicit',\n",
       "                                                                                'key']),\n",
       "                                                                              ('continuous',\n",
       "                                                                               Pipeline(steps=[('SS',\n",
       "                                                                                                StandardScaler()),\n",
       "                                                                                               ('KNN',\n",
       "                                                                                                KNNImputer())...\n",
       "                   param_distributions=[{'rf': [RandomForestRegressor(max_depth=250,\n",
       "                                                                      min_samples_leaf=2,\n",
       "                                                                      min_samples_split=5,\n",
       "                                                                      n_estimators=150,\n",
       "                                                                      n_jobs=-1)],\n",
       "                                         'rf__max_depth': [100, 150, 250],\n",
       "                                         'rf__min_samples_leaf': [2],\n",
       "                                         'rf__min_samples_split': [2, 5],\n",
       "                                         'rf__n_estimators': [100, 150]}],\n",
       "                   random_state=42, refit='neg_root_mean_squared_error',\n",
       "                   scoring=['neg_root_mean_squared_error',\n",
       "                            'neg_mean_squared_error'],\n",
       "                   verbose=1)"
      ]
     },
     "execution_count": 27,
     "metadata": {},
     "output_type": "execute_result"
    }
   ],
   "source": [
    "rf_randcv.fit(X_train, y_train)"
   ]
  },
  {
   "cell_type": "code",
   "execution_count": 28,
   "metadata": {},
   "outputs": [
    {
     "data": {
      "text/plain": [
       "-20.382166252868082"
      ]
     },
     "execution_count": 28,
     "metadata": {},
     "output_type": "execute_result"
    }
   ],
   "source": [
    "rf_randcv.best_score_"
   ]
  },
  {
   "cell_type": "code",
   "execution_count": 29,
   "metadata": {},
   "outputs": [
    {
     "data": {
      "text/plain": [
       "{'rf__n_estimators': 150,\n",
       " 'rf__min_samples_split': 5,\n",
       " 'rf__min_samples_leaf': 2,\n",
       " 'rf__max_depth': 250,\n",
       " 'rf': RandomForestRegressor(max_depth=250, min_samples_leaf=2, min_samples_split=5,\n",
       "                       n_estimators=150, n_jobs=-1)}"
      ]
     },
     "execution_count": 29,
     "metadata": {},
     "output_type": "execute_result"
    }
   ],
   "source": [
    "rf_randcv.best_params_"
   ]
  },
  {
   "cell_type": "markdown",
   "metadata": {},
   "source": [
    "## Models evaluation scores"
   ]
  },
  {
   "cell_type": "code",
   "execution_count": 30,
   "metadata": {
    "scrolled": true
   },
   "outputs": [
    {
     "name": "stdout",
     "output_type": "stream",
     "text": [
      "Bagging Regressor: -20.431\n",
      "Random Forest Regressor: -20.382\n"
     ]
    }
   ],
   "source": [
    "print(f'Bagging Regressor: {round(bag_randcv.best_score_, 3)}')\n",
    "print(f'Random Forest Regressor: {round(rf_randcv.best_score_, 3)}')"
   ]
  },
  {
   "cell_type": "code",
   "execution_count": 31,
   "metadata": {},
   "outputs": [],
   "source": [
    "from sklearn.metrics import classification_report\n"
   ]
  },
  {
   "cell_type": "code",
   "execution_count": 33,
   "metadata": {},
   "outputs": [
    {
     "data": {
      "text/plain": [
       "{'bag__n_estimators': 150,\n",
       " 'bag__max_features': 0.8,\n",
       " 'bag': BaggingRegressor(max_features=0.8, n_estimators=150, n_jobs=-1)}"
      ]
     },
     "execution_count": 33,
     "metadata": {},
     "output_type": "execute_result"
    }
   ],
   "source": [
    "bag_randcv.best_params_"
   ]
  },
  {
   "cell_type": "code",
   "execution_count": 34,
   "metadata": {},
   "outputs": [
    {
     "data": {
      "text/plain": [
       "Pipeline(steps=[('preprocessor',\n",
       "                 ColumnTransformer(transformers=[('categorical',\n",
       "                                                  Pipeline(steps=[('ohe',\n",
       "                                                                   OneHotEncoder(handle_unknown='ignore')),\n",
       "                                                                  ('imputer',\n",
       "                                                                   SimpleImputer(add_indicator=True,\n",
       "                                                                                 strategy='most_frequent'))]),\n",
       "                                                  ['mode', 'explicit', 'key']),\n",
       "                                                 ('continuous',\n",
       "                                                  Pipeline(steps=[('SS',\n",
       "                                                                   StandardScaler()),\n",
       "                                                                  ('KNN',\n",
       "                                                                   KNNImputer())]),\n",
       "                                                  ['danceability', 'energy',\n",
       "                                                   'loudness', 'speechiness',\n",
       "                                                   'acousticness',\n",
       "                                                   'instrumentalness',\n",
       "                                                   'liveness', 'valence',\n",
       "                                                   'tempo', 'duration_ms',\n",
       "                                                   'time_signature'])])),\n",
       "                ('bag',\n",
       "                 TransformedTargetRegressor(regressor=BaggingRegressor(n_estimators=150,\n",
       "                                                                       n_jobs=-1),\n",
       "                                            transformer=QuantileTransformer(n_quantiles=300,\n",
       "                                                                            output_distribution='normal')))])"
      ]
     },
     "execution_count": 34,
     "metadata": {},
     "output_type": "execute_result"
    }
   ],
   "source": [
    "model_final = BaggingRegressor(n_estimators=150, max_features = 1.0, n_jobs=-1)\n",
    "model_final_pipe = Pipeline([('preprocessor', preprocessor),\n",
    "                ('bag', TransformedTargetRegressor(regressor=model_final,\n",
    "                                                         transformer=QuantileTransformer(n_quantiles=300,\n",
    "                                                         output_distribution='normal')))])\n",
    "model_final_pipe.fit(X_train, y_train)"
   ]
  },
  {
   "cell_type": "code",
   "execution_count": 35,
   "metadata": {},
   "outputs": [
    {
     "name": "stdout",
     "output_type": "stream",
     "text": [
      "MAE: 22.234154\n"
     ]
    }
   ],
   "source": [
    "# Prediction on test set\n",
    "y_pred = model_final_pipe.predict(X_test)\n",
    "mae = mean_absolute_error(y_test, y_pred)\n",
    "print(f\"MAE: {mae:.6f}\")"
   ]
  }
 ],
 "metadata": {
  "kernelspec": {
   "display_name": "Python 3",
   "language": "python",
   "name": "python3"
  },
  "language_info": {
   "codemirror_mode": {
    "name": "ipython",
    "version": 3
   },
   "file_extension": ".py",
   "mimetype": "text/x-python",
   "name": "python",
   "nbconvert_exporter": "python",
   "pygments_lexer": "ipython3",
   "version": "3.8.3"
  }
 },
 "nbformat": 4,
 "nbformat_minor": 4
}